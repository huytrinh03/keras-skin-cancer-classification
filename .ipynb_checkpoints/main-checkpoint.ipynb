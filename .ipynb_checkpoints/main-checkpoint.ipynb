{
 "cells": [
  {
   "cell_type": "markdown",
   "id": "eb579f9f-3b26-44bd-b3e2-2c8cb9b72aef",
   "metadata": {},
   "source": [
    "## Setup"
   ]
  },
  {
   "cell_type": "code",
   "execution_count": 3,
   "id": "98e05193-82c8-46d4-b77f-52047f566c26",
   "metadata": {},
   "outputs": [],
   "source": [
    "import tensorflow as tf\n",
    "import keras\n",
    "from keras import layers"
   ]
  },
  {
   "cell_type": "markdown",
   "id": "358a3b42-42e8-45d0-b3d7-b52c74ec9443",
   "metadata": {},
   "source": [
    "## Generate training and test dataset"
   ]
  },
  {
   "cell_type": "code",
   "execution_count": 9,
   "id": "8c1c591b-d59b-49b4-855b-813ceeec0d23",
   "metadata": {},
   "outputs": [
    {
     "name": "stdout",
     "output_type": "stream",
     "text": [
      "Found 25331 files belonging to 2 classes.\n"
     ]
    }
   ],
   "source": [
    "# Absolute path to the ISIC 2019 skin images dataset\n",
    "train_dataset_path = '/Users/trinhnhathuy/pythonProject/ISIC-2019-venv/datasets/train_splitted'\n",
    "\n",
    "# Create a Dataset object that store the ISIC 2019 training dataset \n",
    "train_dataset = keras.utils.image_dataset_from_directory(\n",
    "    train_dataset_path,\n",
    "    shuffle=True,\n",
    "    seed=1300)"
   ]
  },
  {
   "cell_type": "code",
   "execution_count": 10,
   "id": "255ddffe-6077-4259-a300-8a66cd8b97c1",
   "metadata": {},
   "outputs": [
    {
     "data": {
      "text/plain": [
       "array([[[190., 225., 253.],\n",
       "        [190., 225., 253.],\n",
       "        [190., 225., 253.],\n",
       "        ...,\n",
       "        [186., 228., 252.],\n",
       "        [187., 229., 251.],\n",
       "        [188., 230., 252.]],\n",
       "\n",
       "       [[178., 213., 243.],\n",
       "        [177., 212., 242.],\n",
       "        [176., 211., 241.],\n",
       "        ...,\n",
       "        [174., 216., 241.],\n",
       "        [175., 217., 242.],\n",
       "        [176., 218., 242.]],\n",
       "\n",
       "       [[180., 216., 252.],\n",
       "        [180., 216., 252.],\n",
       "        [178., 214., 250.],\n",
       "        ...,\n",
       "        [175., 218., 250.],\n",
       "        [176., 219., 251.],\n",
       "        [177., 221., 250.]],\n",
       "\n",
       "       ...,\n",
       "\n",
       "       [[178., 223., 252.],\n",
       "        [178., 223., 252.],\n",
       "        [178., 223., 252.],\n",
       "        ...,\n",
       "        [187., 227., 252.],\n",
       "        [187., 227., 252.],\n",
       "        [187., 227., 252.]],\n",
       "\n",
       "       [[178., 220., 244.],\n",
       "        [178., 220., 244.],\n",
       "        [177., 219., 243.],\n",
       "        ...,\n",
       "        [188., 224., 246.],\n",
       "        [188., 224., 246.],\n",
       "        [188., 224., 246.]],\n",
       "\n",
       "       [[193., 234., 254.],\n",
       "        [192., 233., 253.],\n",
       "        [192., 233., 253.],\n",
       "        ...,\n",
       "        [199., 234., 254.],\n",
       "        [199., 234., 254.],\n",
       "        [199., 234., 254.]]], dtype=float32)"
      ]
     },
     "execution_count": 10,
     "metadata": {},
     "output_type": "execute_result"
    }
   ],
   "source": [
    "# Observe the image in array\n",
    "image = keras.utils.load_img(\n",
    "    '/Users/trinhnhathuy/pythonProject/ISIC-2019-venv/datasets/train_splitted/train/target_0/ISIC_0000000.jpg',\n",
    "    color_mode=\"rgb\",\n",
    "    target_size=None,\n",
    "    interpolation=\"nearest\",\n",
    "    keep_aspect_ratio=False,\n",
    ")\n",
    "image_array = keras.utils.img_to_array(image, data_format=None, dtype=None)\n",
    "image_array"
   ]
  },
  {
   "cell_type": "markdown",
   "id": "a180c1eb-0e02-4a1e-9fec-07e8a8b56eba",
   "metadata": {},
   "source": [
    "## Image augmentation in the training dataset"
   ]
  },
  {
   "cell_type": "markdown",
   "id": "031d7926-2922-4ef5-a2e4-fc9e0996f899",
   "metadata": {},
   "source": [
    "## Add the layers in the model"
   ]
  },
  {
   "cell_type": "code",
   "execution_count": 8,
   "id": "84ed0fe0-13c6-4b88-b662-3f1e0c7f82c1",
   "metadata": {},
   "outputs": [],
   "source": [
    "# Inspired from https://keras.io/guides/sequential_model/\n",
    "def get_simple_model():    \n",
    "    model = keras.Sequential()\n",
    "    \n",
    "    model.add(keras.Input(shape=(224, 224, 3)))\n",
    "    \n",
    "    # Standardize data\n",
    "    model.add(layers.Rescaling(1.0/255))\n",
    "        \n",
    "    model.add(layers.Convolution2D(filters=32, kernel_size=3, activation=\"relu\"))\n",
    "    model.add(layers.Convolution2D(filters=32, kernel_size=3, activation=\"relu\"))\n",
    "    model.add(layers.MaxPooling2D())\n",
    "    \n",
    "    \n",
    "    model.add(layers.Convolution2D(filters=32, kernel_size=3, activation=\"relu\"))\n",
    "    model.add(layers.Convolution2D(filters=32, kernel_size=3, activation=\"relu\"))\n",
    "    model.add(layers.MaxPooling2D())\n",
    "    \n",
    "    model.add(layers.Convolution2D(filters=32, kernel_size=3, activation=\"relu\"))\n",
    "    model.add(layers.Convolution2D(filters=32, kernel_size=3, activation=\"relu\"))\n",
    "    model.add(layers.MaxPooling2D())\n",
    "    \n",
    "    model.add(layers.Convolution2D(filters=32, kernel_size=3, activation=\"relu\"))\n",
    "    model.add(layers.Convolution2D(filters=32, kernel_size=3, activation=\"relu\"))\n",
    "    model.add(layers.MaxPooling2D())\n",
    "\n",
    "    return model\n",
    "\n",
    "def get_compiled_simple_model():\n",
    "    model = get_simple_model()\n",
    "    model.compile(optimizers=\"SGD\", loss=\"mean_squared_error\", metrics=\"categorical_accuracy\")\n",
    "    return model"
   ]
  },
  {
   "cell_type": "code",
   "execution_count": null,
   "id": "99c015f9-a001-46ac-b3fa-1365902daabb",
   "metadata": {},
   "outputs": [],
   "source": [
    "model = get_compiled_simple_model()\n",
    "model.fit(x=)\n"
   ]
  },
  {
   "cell_type": "markdown",
   "id": "caa6ef8b-52e0-4c06-84f5-ec0179a55a83",
   "metadata": {},
   "source": [
    "## Train the model"
   ]
  }
 ],
 "metadata": {
  "kernelspec": {
   "display_name": "ISIC-2019-venv",
   "language": "python",
   "name": "isic-2019-venv"
  },
  "language_info": {
   "codemirror_mode": {
    "name": "ipython",
    "version": 3
   },
   "file_extension": ".py",
   "mimetype": "text/x-python",
   "name": "python",
   "nbconvert_exporter": "python",
   "pygments_lexer": "ipython3",
   "version": "3.11.3"
  }
 },
 "nbformat": 4,
 "nbformat_minor": 5
}
